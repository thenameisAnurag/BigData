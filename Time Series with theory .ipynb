{
  "nbformat": 4,
  "nbformat_minor": 0,
  "metadata": {
    "colab": {
      "provenance": [],
      "authorship_tag": "ABX9TyMIcWHyZcws6ClL3haSEnKL",
      "include_colab_link": true
    },
    "kernelspec": {
      "name": "python3",
      "display_name": "Python 3"
    },
    "language_info": {
      "name": "python"
    }
  },
  "cells": [
    {
      "cell_type": "markdown",
      "metadata": {
        "id": "view-in-github",
        "colab_type": "text"
      },
      "source": [
        "<a href=\"https://colab.research.google.com/github/thenameisAnurag/BigData/blob/main/Time%20Series%20with%20theory%20.ipynb\" target=\"_parent\"><img src=\"https://colab.research.google.com/assets/colab-badge.svg\" alt=\"Open In Colab\"/></a>"
      ]
    },
    {
      "cell_type": "markdown",
      "source": [
        "A time series is a sequence of data points collected or recorded at specific time intervals. Each data point represents observations or measurements taken at successive, equally spaced points in time. Time series data can be found in various fields like finance, economics, weather forecasting, stock market analysis, and more. It is used to analyze patterns, trends, and behaviors over time, allowing us to make predictions or understand the underlying dynamics of a system.\n",
        "\n",
        "Now, let's break down the code provided and understand it in detail:\n",
        "\n",
        "Loading and Preparing Data:\n",
        "The code starts by loading a time series dataset of air passengers from a CSV file.\n",
        "The 'Month' column is converted to datetime format and set as the index of the DataFrame.\n",
        "\n",
        "Visualizing the Time Series:\n",
        "The time series data is plotted using plt.plot() to visualize the trend of air passengers over the years. This helps us understand the overall pattern or behavior of the data.\n",
        "\n",
        "Visualizing Seasonality:\n",
        "Seasonality refers to patterns or fluctuations that occur at specific intervals within a time series (e.g., daily, weekly, monthly). The code uses seaborn's lineplot() function to visualize the seasonality of air passengers over different months and years. This helps us identify any recurring patterns or trends within each month across different years.\n",
        "\n",
        "Decomposing Time Series:\n",
        "Time series decomposition separates the time series into its constituent components, including trend, seasonality, and residuals (the remainder after removing trend and seasonality). The code decomposes the time series using the seasonal_decompose() function from statsmodels and visualizes each component separately using subplots. This helps us understand the individual contributions of trend, seasonality, and residuals to the overall behavior of the time series.\n",
        "\n",
        "Checking Stationarity:\n",
        "Stationarity is an important property of time series data, indicating whether the statistical properties of the data (e.g., mean, variance) remain constant over time. The code defines a function stationarity_test() to check stationarity by plotting rolling statistics (rolling mean and rolling standard deviation) and performing the Dickey-Fuller test. This helps us determine if the time series is stationary or exhibits trends or seasonality that need to be addressed."
      ],
      "metadata": {
        "id": "e2FAtjmgdEmb"
      }
    },
    {
      "cell_type": "code",
      "execution_count": null,
      "metadata": {
        "id": "9GqDp_4hcEil"
      },
      "outputs": [],
      "source": [
        "import pandas as pd\n",
        "import numpy as np\n",
        "import matplotlib.pyplot as plt\n",
        "import seaborn as sns\n",
        "from statsmodels.tsa.stattools import adfuller\n",
        "import statsmodels.api as sm\n",
        "from pylab import rcParams\n",
        "\n",
        "rcParams['figure.figsize'] = 10, 6\n",
        "\n",
        "# Load the data\n",
        "df = pd.read_csv('https://raw.githubusercontent.com/satishgunjal/datasets/master/Time_Series_AirPassengers.csv')\n",
        "\n",
        "# Convert 'Month' column to datetime and set it as index\n",
        "df['Month'] = pd.to_datetime(df['Month'])\n",
        "df.set_index('Month', inplace=True)\n",
        "\n",
        "# Plot the time series\n",
        "plt.figure(figsize=(10, 6))\n",
        "plt.plot(df, color='blue')\n",
        "plt.xlabel('Years')\n",
        "plt.ylabel('No of Air Passengers')\n",
        "plt.title('Trend of the Time Series')\n",
        "plt.show()\n",
        "\n",
        "# Plot the seasonality using seaborn's lineplot\n",
        "plt.figure(figsize=(10, 6))\n",
        "sns.lineplot(data=df, x=df.index.month, y='Passengers', hue=df.index.year, palette='viridis')\n",
        "plt.title('Seasonality of the Time Series')\n",
        "plt.xlabel('Month')\n",
        "plt.ylabel('No of Air Passengers')\n",
        "plt.legend(title='Year')\n",
        "plt.show()\n",
        "\n",
        "# Decompose the time series and visualize using subplot\n",
        "decomposition = sm.tsa.seasonal_decompose(df, model='additive')\n",
        "fig, axes = plt.subplots(4, 1, figsize=(10, 10), sharex=True)\n",
        "axes[0].plot(df, color='blue', label='Original')\n",
        "axes[0].legend()\n",
        "axes[1].plot(decomposition.trend, color='green', label='Trend')\n",
        "axes[1].legend()\n",
        "axes[2].plot(decomposition.seasonal, color='red', label='Seasonality')\n",
        "axes[2].legend()\n",
        "axes[3].plot(decomposition.resid, color='purple', label='Residuals')\n",
        "axes[3].legend()\n",
        "plt.xlabel('Years')\n",
        "plt.tight_layout()\n",
        "plt.show()\n",
        "\n",
        "# Function for checking stationarity and visualizing\n",
        "def stationarity_test(timeseries):\n",
        "    # Get rolling statistics for window = 12 (monthly data)\n",
        "    rolling_mean = timeseries.rolling(window=12).mean()\n",
        "    rolling_std = timeseries.rolling(window=12).std()\n",
        "\n",
        "    # Plot rolling statistics\n",
        "    plt.figure(figsize=(10, 6))\n",
        "    plt.plot(timeseries, color='blue', label='Original')\n",
        "    plt.plot(rolling_mean, color='green', label='Rolling Mean')\n",
        "    plt.plot(rolling_std, color='red', label='Rolling Std')\n",
        "    plt.xlabel('Years')\n",
        "    plt.ylabel('No of Air Passengers')\n",
        "    plt.title('Stationary Test: Rolling Mean and Standard Deviation')\n",
        "    plt.legend()\n",
        "    plt.show()\n",
        "\n",
        "    # Dickey-Fuller test\n",
        "    print('Results of Dickey-Fuller Test')\n",
        "    df_test = adfuller(timeseries)\n",
        "    df_output = pd.Series(df_test[0:4], index=['Test Statistic', 'p-value', '#Lags Used', 'Number of Observations Used'])\n",
        "    for key, value in df_test[4].items():\n",
        "        df_output['Critical Value (%s)' % key] = value\n",
        "    print(df_output)\n",
        "\n",
        "# Perform stationarity test\n",
        "stationarity_test(df)\n"
      ]
    }
  ]
}