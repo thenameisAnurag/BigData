{
  "nbformat": 4,
  "nbformat_minor": 0,
  "metadata": {
    "colab": {
      "provenance": [],
      "authorship_tag": "ABX9TyOMQVEEfkBBES+TBflo9UIR",
      "include_colab_link": true
    },
    "kernelspec": {
      "name": "python3",
      "display_name": "Python 3"
    },
    "language_info": {
      "name": "python"
    }
  },
  "cells": [
    {
      "cell_type": "markdown",
      "metadata": {
        "id": "view-in-github",
        "colab_type": "text"
      },
      "source": [
        "<a href=\"https://colab.research.google.com/github/thenameisAnurag/BigData/blob/main/Martix_multipilcation_.ipynb\" target=\"_parent\"><img src=\"https://colab.research.google.com/assets/colab-badge.svg\" alt=\"Open In Colab\"/></a>"
      ]
    },
    {
      "cell_type": "code",
      "execution_count": null,
      "metadata": {
        "id": "f4EcKbA1-EZR"
      },
      "outputs": [],
      "source": [
        "def matrix_multiplication(matrix1, matrix2):\n",
        "    \"\"\"\n",
        "    Performs matrix multiplication between two matrices.\n",
        "\n",
        "    Args:\n",
        "    matrix1 (list of lists): The first matrix.\n",
        "    matrix2 (list of lists): The second matrix.\n",
        "\n",
        "    Returns:\n",
        "    list of lists: The result of matrix multiplication.\n",
        "    \"\"\"\n",
        "    # Get the dimensions of the matrices\n",
        "    rows1, cols1 = len(matrix1), len(matrix1[0])\n",
        "    rows2, cols2 = len(matrix2), len(matrix2[0])\n",
        "\n",
        "    # Check if multiplication is possible\n",
        "    if cols1 != rows2:\n",
        "        raise ValueError(\"Matrix dimensions are not compatible for multiplication.\")\n",
        "\n",
        "    # Initialize result matrix with zeros\n",
        "    result = [[0 for _ in range(cols2)] for _ in range(rows1)]\n",
        "\n",
        "    # Perform matrix multiplication\n",
        "    for i in range(rows1):\n",
        "        for j in range(cols2):\n",
        "            for k in range(cols1):\n",
        "                result[i][j] += matrix1[i][k] * matrix2[k][j]\n",
        "\n",
        "    return result\n",
        "\n",
        "# Example matrices\n",
        "matrix1 = [[1, 2, 3],\n",
        "           [4, 5, 6]]\n",
        "\n",
        "matrix2 = [[7, 8],\n",
        "           [9, 10],\n",
        "           [11, 12]]\n",
        "\n",
        "result = matrix_multiplication(matrix1, matrix2)\n",
        "print(\"Result of matrix multiplication:\")\n",
        "for row in result:\n",
        "    print(row)\n"
      ]
    }
  ]
}