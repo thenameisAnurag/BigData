{
  "cells": [
    {
      "cell_type": "markdown",
      "metadata": {
        "id": "view-in-github",
        "colab_type": "text"
      },
      "source": [
        "<a href=\"https://colab.research.google.com/github/thenameisAnurag/BigData/blob/main/count.ipynb\" target=\"_parent\"><img src=\"https://colab.research.google.com/assets/colab-badge.svg\" alt=\"Open In Colab\"/></a>"
      ]
    },
    {
      "cell_type": "code",
      "execution_count": null,
      "metadata": {
        "id": "r3n2ouagfCiz",
        "outputId": "1a3ae605-7fbd-4af2-b17f-864b0db947a9"
      },
      "outputs": [
        {
          "name": "stdout",
          "output_type": "stream",
          "text": [
            "this: 2\n",
            "is: 1\n",
            "a: 2\n",
            "sample: 2\n",
            "text: 2\n",
            "file: 1\n",
            "it: 1\n",
            "contains: 1\n",
            "some: 1\n",
            "words: 1\n",
            "that: 1\n",
            "will: 1\n",
            "be: 1\n",
            "counted: 1\n",
            "files: 1\n",
            "are: 1\n",
            "often: 1\n",
            "used: 1\n",
            "for: 1\n",
            "testing: 1\n",
            "purposes: 1\n",
            "the: 5\n",
            "quick: 1\n",
            "brown: 1\n",
            "fox: 4\n",
            "jumps: 1\n",
            "over: 1\n",
            "lazy: 2\n",
            "dog: 3\n",
            "however: 1\n",
            "in: 1\n",
            "case: 1\n",
            "decides: 1\n",
            "to: 1\n",
            "take: 1\n",
            "nap: 1\n",
            "instead: 1\n",
            "watches: 1\n",
            "sleep: 1\n",
            "peacefully: 1\n",
            "good: 2\n",
            "night: 2\n"
          ]
        }
      ],
      "source": [
        "def count_word_occurrences(file_path):\n",
        "    word_counts = {}\n",
        "\n",
        "    # Open the file\n",
        "    with open(file_path, 'r') as file:\n",
        "        # Read the file line by line\n",
        "        for line in file:\n",
        "            # Split each line into words\n",
        "            words = line.split()\n",
        "            # Count occurrences of each word\n",
        "            for word in words:\n",
        "                # Remove punctuation marks\n",
        "                word = word.strip('.,!?;:\"()[]{}')\n",
        "                # Convert word to lowercase to ignore case sensitivity\n",
        "                word = word.lower()\n",
        "                # Increment the count for the word\n",
        "                word_counts[word] = word_counts.get(word, 0) + 1\n",
        "\n",
        "    return word_counts\n",
        "\n",
        "def main():\n",
        "    file_path = '1.txt'\n",
        "\n",
        "    try:\n",
        "        word_counts = count_word_occurrences(file_path)\n",
        "\n",
        "        # Print the word counts\n",
        "        for word, count in word_counts.items():\n",
        "            print(f\"{word}: {count}\")\n",
        "    except FileNotFoundError:\n",
        "        print(\"File not found. Please enter a valid file path.\")\n",
        "\n",
        "if __name__ == \"__main__\":\n",
        "    main()\n"
      ]
    },
    {
      "cell_type": "code",
      "execution_count": null,
      "metadata": {
        "id": "X3K_3CcGfCi0"
      },
      "outputs": [],
      "source": []
    }
  ],
  "metadata": {
    "kernelspec": {
      "display_name": "Python 3 (ipykernel)",
      "language": "python",
      "name": "python3"
    },
    "language_info": {
      "codemirror_mode": {
        "name": "ipython",
        "version": 3
      },
      "file_extension": ".py",
      "mimetype": "text/x-python",
      "name": "python",
      "nbconvert_exporter": "python",
      "pygments_lexer": "ipython3",
      "version": "3.11.0"
    },
    "colab": {
      "provenance": [],
      "include_colab_link": true
    }
  },
  "nbformat": 4,
  "nbformat_minor": 0
}